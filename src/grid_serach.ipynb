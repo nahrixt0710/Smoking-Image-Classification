{
 "cells": [
  {
   "cell_type": "code",
   "execution_count": 11,
   "metadata": {},
   "outputs": [],
   "source": [
    "from sklearn.model_selection import GridSearchCV, train_test_split\n",
    "from sklearn.pipeline import Pipeline\n",
    "from sklearn.svm import SVC\n",
    "from sklearn.neighbors import KNeighborsClassifier\n",
    "from sklearn.ensemble import RandomForestClassifier\n",
    "\n",
    "\n",
    "import os\n",
    "import time\n",
    "import numpy as np\n",
    "import cv2\n",
    "from skimage import feature, io, color\n",
    "from sklearn.metrics import classification_report\n",
    "import joblib\n",
    "import json\n",
    "import itertools\n",
    "from tqdm import tqdm\n",
    "\n",
    "from utils import *"
   ]
  },
  {
   "cell_type": "code",
   "execution_count": 12,
   "metadata": {},
   "outputs": [],
   "source": [
    "# test_dir = \"../data/test\"\n",
    "# test_data, test_labels = load_raw_data(test_dir)\n",
    "\n",
    "train_dir = \"../data/train\"\n",
    "train_data, train_labels = load_raw_data(train_dir)\n",
    "train_labels = np.array(train_labels)\n",
    "\n",
    "bins = [8, 16, 32, 64, 128, 256]\n",
    "sizes = [32, 64, 128, 250, 512]  # default image_size = 250x250 \n",
    "\n",
    "bins_h = [8, 16, 32, 64, 128, 180]\n",
    "bins_s = [8, 16, 32, 64, 128, 256]\n",
    "bins_v = [8, 16, 32, 64, 128, 256]\n",
    "\n",
    "bin_combinations = list(itertools.product(bins_h, bins_s, bins_v))"
   ]
  },
  {
   "cell_type": "code",
   "execution_count": 13,
   "metadata": {},
   "outputs": [
    {
     "name": "stdout",
     "output_type": "stream",
     "text": [
      "[(8, 8, 8), (8, 8, 16), (8, 8, 32), (8, 8, 64), (8, 8, 128), (8, 8, 256), (8, 16, 8), (8, 16, 16), (8, 16, 32), (8, 16, 64), (8, 16, 128), (8, 16, 256), (8, 32, 8), (8, 32, 16), (8, 32, 32), (8, 32, 64), (8, 32, 128), (8, 32, 256), (8, 64, 8), (8, 64, 16), (8, 64, 32), (8, 64, 64), (8, 64, 128), (8, 64, 256), (8, 128, 8), (8, 128, 16), (8, 128, 32), (8, 128, 64), (8, 128, 128), (8, 128, 256), (8, 256, 8), (8, 256, 16), (8, 256, 32), (8, 256, 64), (8, 256, 128), (8, 256, 256), (16, 8, 8), (16, 8, 16), (16, 8, 32), (16, 8, 64), (16, 8, 128), (16, 8, 256), (16, 16, 8), (16, 16, 16), (16, 16, 32), (16, 16, 64), (16, 16, 128), (16, 16, 256), (16, 32, 8), (16, 32, 16), (16, 32, 32), (16, 32, 64), (16, 32, 128), (16, 32, 256), (16, 64, 8), (16, 64, 16), (16, 64, 32), (16, 64, 64), (16, 64, 128), (16, 64, 256), (16, 128, 8), (16, 128, 16), (16, 128, 32), (16, 128, 64), (16, 128, 128), (16, 128, 256), (16, 256, 8), (16, 256, 16), (16, 256, 32), (16, 256, 64), (16, 256, 128), (16, 256, 256), (32, 8, 8), (32, 8, 16), (32, 8, 32), (32, 8, 64), (32, 8, 128), (32, 8, 256), (32, 16, 8), (32, 16, 16), (32, 16, 32), (32, 16, 64), (32, 16, 128), (32, 16, 256), (32, 32, 8), (32, 32, 16), (32, 32, 32), (32, 32, 64), (32, 32, 128), (32, 32, 256), (32, 64, 8), (32, 64, 16), (32, 64, 32), (32, 64, 64), (32, 64, 128), (32, 64, 256), (32, 128, 8), (32, 128, 16), (32, 128, 32), (32, 128, 64), (32, 128, 128), (32, 128, 256), (32, 256, 8), (32, 256, 16), (32, 256, 32), (32, 256, 64), (32, 256, 128), (32, 256, 256), (64, 8, 8), (64, 8, 16), (64, 8, 32), (64, 8, 64), (64, 8, 128), (64, 8, 256), (64, 16, 8), (64, 16, 16), (64, 16, 32), (64, 16, 64), (64, 16, 128), (64, 16, 256), (64, 32, 8), (64, 32, 16), (64, 32, 32), (64, 32, 64), (64, 32, 128), (64, 32, 256), (64, 64, 8), (64, 64, 16), (64, 64, 32), (64, 64, 64), (64, 64, 128), (64, 64, 256), (64, 128, 8), (64, 128, 16), (64, 128, 32), (64, 128, 64), (64, 128, 128), (64, 128, 256), (64, 256, 8), (64, 256, 16), (64, 256, 32), (64, 256, 64), (64, 256, 128), (64, 256, 256), (128, 8, 8), (128, 8, 16), (128, 8, 32), (128, 8, 64), (128, 8, 128), (128, 8, 256), (128, 16, 8), (128, 16, 16), (128, 16, 32), (128, 16, 64), (128, 16, 128), (128, 16, 256), (128, 32, 8), (128, 32, 16), (128, 32, 32), (128, 32, 64), (128, 32, 128), (128, 32, 256), (128, 64, 8), (128, 64, 16), (128, 64, 32), (128, 64, 64), (128, 64, 128), (128, 64, 256), (128, 128, 8), (128, 128, 16), (128, 128, 32), (128, 128, 64), (128, 128, 128), (128, 128, 256), (128, 256, 8), (128, 256, 16), (128, 256, 32), (128, 256, 64), (128, 256, 128), (128, 256, 256), (180, 8, 8), (180, 8, 16), (180, 8, 32), (180, 8, 64), (180, 8, 128), (180, 8, 256), (180, 16, 8), (180, 16, 16), (180, 16, 32), (180, 16, 64), (180, 16, 128), (180, 16, 256), (180, 32, 8), (180, 32, 16), (180, 32, 32), (180, 32, 64), (180, 32, 128), (180, 32, 256), (180, 64, 8), (180, 64, 16), (180, 64, 32), (180, 64, 64), (180, 64, 128), (180, 64, 256), (180, 128, 8), (180, 128, 16), (180, 128, 32), (180, 128, 64), (180, 128, 128), (180, 128, 256), (180, 256, 8), (180, 256, 16), (180, 256, 32), (180, 256, 64), (180, 256, 128), (180, 256, 256)]\n"
     ]
    }
   ],
   "source": [
    "print(bin_combinations)"
   ]
  },
  {
   "cell_type": "markdown",
   "metadata": {},
   "source": [
    "# *SVM*"
   ]
  },
  {
   "cell_type": "code",
   "execution_count": 8,
   "metadata": {},
   "outputs": [
    {
     "ename": "NameError",
     "evalue": "name 'bin_combinations' is not defined",
     "output_type": "error",
     "traceback": [
      "\u001b[1;31m---------------------------------------------------------------------------\u001b[0m",
      "\u001b[1;31mNameError\u001b[0m                                 Traceback (most recent call last)",
      "Cell \u001b[1;32mIn[8], line 3\u001b[0m\n\u001b[0;32m      1\u001b[0m results \u001b[38;5;241m=\u001b[39m []\n\u001b[0;32m      2\u001b[0m start \u001b[38;5;241m=\u001b[39m time\u001b[38;5;241m.\u001b[39mtime()\n\u001b[1;32m----> 3\u001b[0m \u001b[38;5;28;01mfor\u001b[39;00m bin_h, bin_s, bin_v \u001b[38;5;129;01min\u001b[39;00m tqdm(\u001b[43mbin_combinations\u001b[49m, desc\u001b[38;5;241m=\u001b[39m\u001b[38;5;124m\"\u001b[39m\u001b[38;5;124mProcessing bin combinations\u001b[39m\u001b[38;5;124m\"\u001b[39m):\n\u001b[0;32m      4\u001b[0m     \u001b[38;5;28;01mfor\u001b[39;00m img_size \u001b[38;5;129;01min\u001b[39;00m tqdm(sizes, leave\u001b[38;5;241m=\u001b[39m\u001b[38;5;28;01mFalse\u001b[39;00m, desc\u001b[38;5;241m=\u001b[39m\u001b[38;5;124mf\u001b[39m\u001b[38;5;124m\"\u001b[39m\u001b[38;5;124mProcessing image size \u001b[39m\u001b[38;5;132;01m{\u001b[39;00mimg_size\u001b[38;5;132;01m}\u001b[39;00m\u001b[38;5;124m\"\u001b[39m):\n\u001b[0;32m      5\u001b[0m         svm \u001b[38;5;241m=\u001b[39m SVC()\n",
      "\u001b[1;31mNameError\u001b[0m: name 'bin_combinations' is not defined"
     ]
    }
   ],
   "source": [
    "results = []\n",
    "start = time.time()\n",
    "for bin in bins:\n",
    "    for img_size in sizes:\n",
    "        svm = SVC()\n",
    "\n",
    "        train_data_ = [preprocess2(x, img_size, bin) for x in train_data]\n",
    "        train_data_ = np.array(train_data_)\n",
    "\n",
    "        param_grid = {\n",
    "            'C': [0.001, 0.01, 0.1, 1, 10],\n",
    "            'kernel': ['linear', 'rbf', 'poly', 'sigmoid'], \n",
    "            # 'gamma': [0.1, 0.5, 1, 5, 10] \n",
    "            'gamma' : [\"scale\", \"auto\"],\n",
    "        }       \n",
    "\n",
    "        # GridSearchCV\n",
    "        grid_search = GridSearchCV(estimator=svm, param_grid=param_grid, cv=5, scoring='accuracy')\n",
    "\n",
    "        # Huấn luyện\n",
    "        grid_search.fit(train_data_, train_labels)\n",
    "        results.append({\n",
    "            \"bin\": bin,\n",
    "            \"img_size\": img_size,\n",
    "            \"model\": grid_search           \n",
    "        }\n",
    "        )\n",
    "\n",
    "print(\"DONE\")\n",
    "elapsed = time.time() - start\n",
    "print(f\"Eplased time: {elapsed}\")"
   ]
  },
  {
   "cell_type": "code",
   "execution_count": 15,
   "metadata": {},
   "outputs": [
    {
     "name": "stderr",
     "output_type": "stream",
     "text": [
      "Processing bin combinations: 100%|██████████| 216/216 [2:06:19<00:00, 35.09s/it]  "
     ]
    },
    {
     "name": "stdout",
     "output_type": "stream",
     "text": [
      "DONE\n",
      "Eplased time: 7579.521668672562\n"
     ]
    },
    {
     "name": "stderr",
     "output_type": "stream",
     "text": [
      "\n"
     ]
    }
   ],
   "source": [
    "results = []\n",
    "start = time.time()\n",
    "\n",
    "for bin_h, bin_s, bin_v in tqdm(bin_combinations, desc=\"Processing bin combinations\"):\n",
    "    for img_size in tqdm(sizes, leave=False, desc=f\"Processing image size {img_size}\"):\n",
    "        svm = SVC()\n",
    "\n",
    "        train_data_ = [preprocess_hsv(x, img_size, bin_h, bin_s, bin_v) for x in train_data]\n",
    "        train_data_ = np.array(train_data_)\n",
    "\n",
    "        param_grid = {\n",
    "            'C': [0.001, 0.01, 0.1, 1, 10],\n",
    "            'kernel': ['linear', 'rbf', 'poly', 'sigmoid'], \n",
    "            # 'gamma': [0.1, 0.5, 1, 5, 10] \n",
    "            'gamma' : [\"scale\", \"auto\"],\n",
    "        }       \n",
    "\n",
    "        grid_search = GridSearchCV(estimator=svm, param_grid=param_grid, cv=5, scoring='accuracy')\n",
    "\n",
    "        grid_search.fit(train_data_, train_labels)\n",
    "        results.append({\n",
    "            \"bin\": (bin_h, bin_s, bin_v),\n",
    "            \"img_size\": img_size,\n",
    "            \"model\": grid_search           \n",
    "        }\n",
    "        )\n",
    "\n",
    "print(\"DONE\")\n",
    "elapsed = time.time() - start\n",
    "print(f\"Eplased time: {elapsed}\")"
   ]
  },
  {
   "cell_type": "code",
   "execution_count": 16,
   "metadata": {},
   "outputs": [
    {
     "name": "stdout",
     "output_type": "stream",
     "text": [
      "\n",
      "Best Overall Model:\n",
      "img_size: 128\n",
      "bin: (180, 8, 8)\n",
      "Best Parameters: {'C': 10, 'gamma': 'auto', 'kernel': 'sigmoid'}\n",
      "{'img_size': 128, 'bin': (180, 8, 8), 'C': 10, 'gamma': 'auto', 'kernel': 'sigmoid'}\n"
     ]
    },
    {
     "data": {
      "text/plain": [
       "['./checkpoint/svm_best_model_hsv.pkl']"
      ]
     },
     "execution_count": 16,
     "metadata": {},
     "output_type": "execute_result"
    }
   ],
   "source": [
    "best_model = None\n",
    "best_score = -float('inf')  # Đặt giá trị thấp nhất ban đầu để so sánh\n",
    "\n",
    "# Lặp qua tất cả các kết quả \"trong results\n",
    "for grid_search in results:\n",
    "    if grid_search[\"model\"].best_score_ > best_score:\n",
    "        best_score = grid_search[\"model\"].best_score_\n",
    "        best_model = grid_search[\"model\"].best_estimator_\n",
    "        best_params = grid_search[\"model\"].best_params_\n",
    "        bin_ = grid_search[\"bin\"]\n",
    "        img_size_ = grid_search[\"img_size\"]\n",
    "\n",
    "\n",
    "# In kết quả\n",
    "print(\"\\nBest Overall Model:\")\n",
    "print(\"img_size:\", img_size_)\n",
    "print(\"bin:\", bin_)\n",
    "print(\"Best Parameters:\", best_params)\n",
    "\n",
    "# save parameters\n",
    "params = {\n",
    "    \"img_size\": img_size_,\n",
    "    \"bin\": bin_,\n",
    "}\n",
    "params.update(best_params)\n",
    "print(params)\n",
    "\n",
    "with open('./checkpoint/svm_params_hsv.json', 'w') as f:\n",
    "    json.dump(params, f)\n",
    "\n",
    "#save model\n",
    "joblib.dump(best_model, './checkpoint/svm_best_model_hsv.pkl')"
   ]
  },
  {
   "cell_type": "markdown",
   "metadata": {},
   "source": [
    "# *KNN*"
   ]
  },
  {
   "cell_type": "code",
   "execution_count": null,
   "metadata": {},
   "outputs": [
    {
     "name": "stdout",
     "output_type": "stream",
     "text": [
      "DONE\n",
      "Eplased time: 264.8366196155548\n"
     ]
    }
   ],
   "source": [
    "results = []\n",
    "start = time.time()\n",
    "for bin in bins:\n",
    "    for img_size in sizes:\n",
    "        knn = KNeighborsClassifier()\n",
    "        train_data_ = [preprocess2(x, img_size, bin) for x in train_data]\n",
    "        train_data_ = np.array(train_data_)\n",
    "\n",
    "        param_grid = {\n",
    "            'n_neighbors': [1, 3, 5, 7, 9],         \n",
    "            'weights': ['uniform', 'distance'],\n",
    "            'metric': [\n",
    "                'euclidean', 'manhattan', 'minkowski', 'chebyshev', 'cosine', 'hamming'\n",
    "            ]\n",
    "        }\n",
    "\n",
    "        # GridSearchCV\n",
    "        grid_search = GridSearchCV(estimator=knn, param_grid=param_grid, cv=5, scoring='accuracy')\n",
    "\n",
    "        # Huấn luyện\n",
    "        grid_search.fit(train_data_, train_labels)\n",
    "        results.append({\n",
    "            \"bin\": bin,\n",
    "            \"img_size\": img_size,\n",
    "            \"model\": grid_search           \n",
    "        }\n",
    "        )\n",
    "\n",
    "print(\"DONE\")\n",
    "elapsed = time.time() - start\n",
    "print(f\"Eplased time: {elapsed}\")"
   ]
  },
  {
   "cell_type": "code",
   "execution_count": 10,
   "metadata": {},
   "outputs": [
    {
     "name": "stdout",
     "output_type": "stream",
     "text": [
      "\n",
      "Best Overall Model:\n",
      "img_size: 250\n",
      "bin: 16\n",
      "Best Parameters: {'metric': 'manhattan', 'n_neighbors': 7, 'weights': 'distance'}\n",
      "{'img_size': 250, 'bin': 16, 'metric': 'manhattan', 'n_neighbors': 7, 'weights': 'distance'}\n"
     ]
    }
   ],
   "source": [
    "best_model = None\n",
    "best_score = -float('inf')\n",
    "\n",
    "for grid_search in results:\n",
    "    if grid_search[\"model\"].best_score_ > best_score:\n",
    "        best_score = grid_search[\"model\"].best_score_\n",
    "        best_model = grid_search[\"model\"].best_estimator_\n",
    "        best_params = grid_search[\"model\"].best_params_\n",
    "        bin_ = grid_search[\"bin\"]\n",
    "        img_size_ = grid_search[\"img_size\"]\n",
    "\n",
    "\n",
    "print(\"\\nBest Overall Model:\")\n",
    "print(\"img_size:\", img_size_)\n",
    "print(\"bin:\", bin_)\n",
    "print(\"Best Parameters:\", best_params)\n",
    "\n",
    "params = {\n",
    "    \"img_size\": img_size_,\n",
    "    \"bin\": bin_,\n",
    "}\n",
    "params.update(best_params)\n",
    "print(params)\n",
    "\n",
    "# #save params\n",
    "# with open('./checkpoint/knn_params.json', 'w') as f:\n",
    "#     json.dump(params, f)\n",
    "\n",
    "# # save model \n",
    "# joblib.dump(best_model, './checkpoint/knn_best_model.pkl')"
   ]
  },
  {
   "cell_type": "markdown",
   "metadata": {},
   "source": [
    "# *Random Forest*"
   ]
  },
  {
   "cell_type": "code",
   "execution_count": 7,
   "metadata": {},
   "outputs": [
    {
     "name": "stderr",
     "output_type": "stream",
     "text": [
      "Bins:   0%|          | 0/6 [00:00<?, ?it/s]"
     ]
    },
    {
     "name": "stderr",
     "output_type": "stream",
     "text": [
      "Bins: 100%|██████████| 6/6 [11:17<00:00, 112.86s/it]"
     ]
    },
    {
     "name": "stdout",
     "output_type": "stream",
     "text": [
      "DONE\n",
      "Total Time Taken: 677.16 seconds\n"
     ]
    },
    {
     "name": "stderr",
     "output_type": "stream",
     "text": [
      "\n"
     ]
    }
   ],
   "source": [
    "import time\n",
    "from tqdm import tqdm\n",
    "from sklearn.model_selection import GridSearchCV\n",
    "from sklearn.ensemble import RandomForestClassifier\n",
    "results = []\n",
    "\n",
    "# Start timer\n",
    "start_time = time.time()\n",
    "bins = [8, 16, 32, 64, 128, 256]\n",
    "sizes = [32, 64, 128, 250]  # default image_size = 250x250 \n",
    "\n",
    "for bin in tqdm(bins, desc=\"Bins\"):\n",
    "    for img_size in tqdm(sizes, desc=\"Image Sizes\", leave=False):\n",
    "        rf = RandomForestClassifier(random_state=42, n_jobs=-1)  # Use all CPU cores\n",
    "\n",
    "        train_data_ = [preprocess2(x, img_size, bin) for x in train_data]\n",
    "        train_data_ = np.array(train_data_)\n",
    "\n",
    "        param_grid = {\n",
    "            'n_estimators': [50, 100],\n",
    "            'max_depth': [None, 10, 20, 30],\n",
    "            'min_samples_split': [2, 5, 10],\n",
    "            'min_samples_leaf': [1, 2, 4],\n",
    "        }\n",
    "\n",
    "        # GridSearchCV\n",
    "        grid_search = GridSearchCV(estimator=rf, param_grid=param_grid, cv=5, scoring='accuracy', n_jobs=-1)\n",
    "\n",
    "        # Train\n",
    "        grid_search.fit(train_data_, train_labels)\n",
    "        results.append({\n",
    "            \"bin\": bin,\n",
    "            \"img_size\": img_size,\n",
    "            \"model\": grid_search           \n",
    "        })\n",
    "\n",
    "# End timer\n",
    "end_time = time.time()\n",
    "elapsed_time = end_time - start_time\n",
    "\n",
    "print(\"DONE\")\n",
    "print(f\"Total Time Taken: {elapsed_time:.2f} seconds\")"
   ]
  },
  {
   "cell_type": "code",
   "execution_count": 8,
   "metadata": {},
   "outputs": [
    {
     "name": "stdout",
     "output_type": "stream",
     "text": [
      "\n",
      "Best Overall Model:\n",
      "img_size: 128\n",
      "bin: 8\n",
      "Best Parameters: {'max_depth': 10, 'min_samples_leaf': 1, 'min_samples_split': 2, 'n_estimators': 100}\n",
      "{'img_size': 128, 'bin': 8, 'max_depth': 10, 'min_samples_leaf': 1, 'min_samples_split': 2, 'n_estimators': 100}\n"
     ]
    }
   ],
   "source": [
    "best_model = None\n",
    "best_score = -float('inf')\n",
    "\n",
    "for grid_search in results:\n",
    "    if grid_search[\"model\"].best_score_ > best_score:\n",
    "        best_score = grid_search[\"model\"].best_score_\n",
    "        best_model = grid_search[\"model\"].best_estimator_\n",
    "        best_params = grid_search[\"model\"].best_params_\n",
    "        bin_ = grid_search[\"bin\"]\n",
    "        img_size_ = grid_search[\"img_size\"]\n",
    "\n",
    "\n",
    "print(\"\\nBest Overall Model:\")\n",
    "print(\"img_size:\", img_size_)\n",
    "print(\"bin:\", bin_)\n",
    "print(\"Best Parameters:\", best_params)\n",
    "\n",
    "params = {\n",
    "    \"img_size\": img_size_,\n",
    "    \"bin\": bin_,\n",
    "}\n",
    "params.update(best_params)\n",
    "print(params)\n",
    "\n",
    "# #save params\n",
    "# with open('./checkpoint/rf_params.json', 'w') as f:\n",
    "#     json.dump(params, f)\n",
    "\n",
    "# # save model \n",
    "# joblib.dump(best_model, './checkpoint/rf_best_model.pkl')"
   ]
  }
 ],
 "metadata": {
  "kernelspec": {
   "display_name": "Python 3",
   "language": "python",
   "name": "python3"
  },
  "language_info": {
   "codemirror_mode": {
    "name": "ipython",
    "version": 3
   },
   "file_extension": ".py",
   "mimetype": "text/x-python",
   "name": "python",
   "nbconvert_exporter": "python",
   "pygments_lexer": "ipython3",
   "version": "3.12.3"
  }
 },
 "nbformat": 4,
 "nbformat_minor": 2
}
