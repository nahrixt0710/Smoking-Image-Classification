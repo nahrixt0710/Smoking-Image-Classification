{
 "cells": [
  {
   "cell_type": "code",
   "execution_count": 5,
   "metadata": {},
   "outputs": [],
   "source": [
    "import joblib\n",
    "from utils import *\n",
    "import os\n",
    "import numpy as np\n",
    "import cv2\n",
    "import json\n",
    "from sklearn.metrics import classification_report\n",
    "from sklearn.metrics import accuracy_score"
   ]
  },
  {
   "cell_type": "code",
   "execution_count": 6,
   "metadata": {},
   "outputs": [],
   "source": [
    "path = \"../data/test\"\n",
    "if os.path.exists(path):\n",
    "    X_test, y_test = load_raw_data(\"../data/test\")\n",
    "else:\n",
    "    print(\"Data not found\")"
   ]
  },
  {
   "cell_type": "markdown",
   "metadata": {},
   "source": [
    "# *SVM*"
   ]
  },
  {
   "cell_type": "code",
   "execution_count": 7,
   "metadata": {},
   "outputs": [
    {
     "name": "stdout",
     "output_type": "stream",
     "text": [
      "              precision    recall  f1-score   support\n",
      "\n",
      "           0       0.85      0.65      0.74       127\n",
      "           1       0.65      0.85      0.74        97\n",
      "\n",
      "    accuracy                           0.74       224\n",
      "   macro avg       0.75      0.75      0.74       224\n",
      "weighted avg       0.76      0.74      0.74       224\n",
      "\n"
     ]
    },
    {
     "name": "stderr",
     "output_type": "stream",
     "text": [
      "c:\\Users\\pc\\AppData\\Local\\Programs\\Python\\Python312\\Lib\\site-packages\\sklearn\\base.py:376: InconsistentVersionWarning: Trying to unpickle estimator SVC from version 1.5.2 when using version 1.5.0. This might lead to breaking code or invalid results. Use at your own risk. For more info please refer to:\n",
      "https://scikit-learn.org/stable/model_persistence.html#security-maintainability-limitations\n",
      "  warnings.warn(\n"
     ]
    }
   ],
   "source": [
    "svm = joblib.load(\"./checkpoint/svm_best_model.pkl\")\n",
    "\n",
    "# read parameters from config file\n",
    "with open (\"./checkpoint/svm_params.json\", \"r\") as f:\n",
    "    params = json.load(f)\n",
    "\n",
    "bin = params[\"bin\"]\n",
    "img_size = params[\"img_size\"]   \n",
    "\n",
    "# preprocess data\n",
    "X_test_ = [preprocess2(x, img_size=img_size, bin=bin) for x in X_test]\n",
    "\n",
    "y_pred = svm.predict(X_test_)\n",
    "\n",
    "# accuracy = accuracy_score(y_test, y_pred)\n",
    "# print(f\"Accuracy: {accuracy}\")\n",
    "print(classification_report(y_test, y_pred))"
   ]
  },
  {
   "cell_type": "markdown",
   "metadata": {},
   "source": [
    "# *KNN*"
   ]
  },
  {
   "cell_type": "code",
   "execution_count": null,
   "metadata": {},
   "outputs": [
    {
     "name": "stdout",
     "output_type": "stream",
     "text": [
      "              precision    recall  f1-score   support\n",
      "\n",
      "           0       0.80      0.68      0.74       127\n",
      "           1       0.65      0.78      0.71        97\n",
      "\n",
      "    accuracy                           0.72       224\n",
      "   macro avg       0.73      0.73      0.72       224\n",
      "weighted avg       0.74      0.72      0.72       224\n",
      "\n"
     ]
    },
    {
     "name": "stderr",
     "output_type": "stream",
     "text": [
      "c:\\Users\\pc\\AppData\\Local\\Programs\\Python\\Python312\\Lib\\site-packages\\sklearn\\base.py:376: InconsistentVersionWarning: Trying to unpickle estimator KNeighborsClassifier from version 1.5.2 when using version 1.5.0. This might lead to breaking code or invalid results. Use at your own risk. For more info please refer to:\n",
      "https://scikit-learn.org/stable/model_persistence.html#security-maintainability-limitations\n",
      "  warnings.warn(\n"
     ]
    }
   ],
   "source": [
    "knn = joblib.load(\"./checkpoint/knn_best_model.pkl\")\n",
    "\n",
    "# read parameters\n",
    "with open(\"./checkpoint/knn_params.json\", \"r\") as f:\n",
    "    params = json.load(f)\n",
    "\n",
    "bin = params[\"bin\"]\n",
    "img_size = params[\"img_size\"]   \n",
    "metric = params[\"metric\"]\n",
    "n_neighbors = params[\"n_neighbors\"]\n",
    "weights = params[\"weights\"]\n",
    "\n",
    "# preprocess data\n",
    "X_test_ = [preprocess2(x, img_size=img_size, bin=bin) for x in X_test]\n",
    "y_pred = knn.predict(X_test_)\n",
    "\n",
    "print(classification_report(y_test, y_pred))\n"
   ]
  }
 ],
 "metadata": {
  "kernelspec": {
   "display_name": "Python 3",
   "language": "python",
   "name": "python3"
  },
  "language_info": {
   "codemirror_mode": {
    "name": "ipython",
    "version": 3
   },
   "file_extension": ".py",
   "mimetype": "text/x-python",
   "name": "python",
   "nbconvert_exporter": "python",
   "pygments_lexer": "ipython3",
   "version": "3.12.3"
  }
 },
 "nbformat": 4,
 "nbformat_minor": 2
}
