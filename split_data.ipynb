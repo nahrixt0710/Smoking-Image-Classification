{
 "cells": [
  {
   "cell_type": "code",
   "execution_count": null,
   "metadata": {},
   "outputs": [],
   "source": [
    "import os\n",
    "from sklearn.model_selection import train_test_split\n",
    "import shutil\n",
    "\n",
    "# Đường dẫn đến thư mục ảnh gốc\n",
    "source_folder = \"./data/images\"\n",
    "train_folder = \"./data/train\"\n",
    "test_folder = \"./data/test\"\n",
    "\n",
    "# Tạo các thư mục nếu chưa tồn tại\n",
    "os.makedirs(train_folder, exist_ok=True)\n",
    "os.makedirs(test_folder, exist_ok=True)\n",
    "\n",
    "# Lấy danh sách các tệp ảnh\n",
    "image_files = [\n",
    "    f\n",
    "    for f in os.listdir(source_folder)\n",
    "    if os.path.isfile(os.path.join(source_folder, f))\n",
    "]\n",
    "\n",
    "# Chia dữ liệu thành train và test\n",
    "train_files, test_files = train_test_split(image_files, test_size=0.2, random_state=42)\n",
    "\n",
    "# Di chuyển các tệp vào thư mục tương ứng\n",
    "for file in train_files:\n",
    "    shutil.copy2(os.path.join(source_folder, file), os.path.join(train_folder, file))\n",
    "\n",
    "for file in test_files:\n",
    "    shutil.copy2(os.path.join(source_folder, file), os.path.join(test_folder, file))\n",
    "\n",
    "print(\"Done splitting images!\")\n",
    "\n",
    "notsmoking = 0\n",
    "smoking = 0\n",
    "for file_name in os.listdir(train_folder):\n",
    "    if file_name.lower().startswith(\"notsmoking\"):\n",
    "        notsmoking += 1\n",
    "    elif file_name.lower().startswith(\"smoking\"):\n",
    "        smoking += 1\n",
    "print(f\"Train folder: {notsmoking} not smoking, {smoking} smoking\")\n",
    "\n",
    "notsmoking = 0\n",
    "smoking = 0\n",
    "for file_name in os.listdir(test_folder):\n",
    "    if file_name.lower().startswith(\"notsmoking\"):\n",
    "        notsmoking += 1\n",
    "    elif file_name.lower().startswith(\"smoking\"):\n",
    "        smoking += 1\n",
    "print(f\"Test folder: {notsmoking} not smoking, {smoking} smoking\")\n"
   ]
  },
  {
   "cell_type": "code",
   "execution_count": 15,
   "metadata": {},
   "outputs": [
    {
     "name": "stdout",
     "output_type": "stream",
     "text": [
      "Demo folder: 20 images, 10 not smoking, 10 smoking\n"
     ]
    }
   ],
   "source": [
    "# Create demo folder\n",
    "import shutil\n",
    "import os\n",
    "import random\n",
    "\n",
    "demo_folder = \"./data/demo\"\n",
    "test_folder = \"./data/test\"\n",
    "os.makedirs(demo_folder, exist_ok=True)\n",
    "\n",
    "# clear demo \n",
    "def clear_folder(folder_path):\n",
    "    for item in os.listdir(folder_path):  \n",
    "        item_path = os.path.join(folder_path, item)  \n",
    "        if os.path.isfile(item_path) or os.path.islink(item_path): \n",
    "            os.remove(item_path)  \n",
    "        elif os.path.isdir(item_path):\n",
    "            shutil.rmtree(item_path)  \n",
    "\n",
    "clear_folder(demo_folder)\n",
    "\n",
    "# Copy random images from test folder to demo folder\n",
    "random.seed(24)\n",
    "test_files = os.listdir(test_folder)\n",
    "random.shuffle(test_files)\n",
    "\n",
    "n_images = 20\n",
    "notsmoking = 0\n",
    "smoking = 0\n",
    "\n",
    "for file in test_files[:100]:\n",
    "    if file.lower().startswith(\"notsmoking\") and notsmoking < n_images/2:\n",
    "        notsmoking += 1\n",
    "        shutil.copy2(os.path.join(test_folder, file), os.path.join(demo_folder, file)) \n",
    "    elif file.lower().startswith(\"smoking\") and smoking < n_images/2:\n",
    "        smoking += 1\n",
    "        shutil.copy2(os.path.join(test_folder, file), os.path.join(demo_folder, file))\n",
    "\n",
    "\n",
    "files = os.listdir(demo_folder)\n",
    "print(f\"Demo folder: {len(files)} images, {notsmoking} not smoking, {smoking} smoking\")"
   ]
  }
 ],
 "metadata": {
  "kernelspec": {
   "display_name": "Python 3",
   "language": "python",
   "name": "python3"
  },
  "language_info": {
   "codemirror_mode": {
    "name": "ipython",
    "version": 3
   },
   "file_extension": ".py",
   "mimetype": "text/x-python",
   "name": "python",
   "nbconvert_exporter": "python",
   "pygments_lexer": "ipython3",
   "version": "3.12.4"
  }
 },
 "nbformat": 4,
 "nbformat_minor": 2
}
